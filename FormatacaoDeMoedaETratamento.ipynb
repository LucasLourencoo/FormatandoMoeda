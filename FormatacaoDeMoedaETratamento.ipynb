{
 "cells": [
  {
   "cell_type": "code",
   "execution_count": 70,
   "metadata": {},
   "outputs": [
    {
     "data": {
      "text/html": [
       "<div>\n",
       "<style scoped>\n",
       "    .dataframe tbody tr th:only-of-type {\n",
       "        vertical-align: middle;\n",
       "    }\n",
       "\n",
       "    .dataframe tbody tr th {\n",
       "        vertical-align: top;\n",
       "    }\n",
       "\n",
       "    .dataframe thead th {\n",
       "        text-align: right;\n",
       "    }\n",
       "</style>\n",
       "<table border=\"1\" class=\"dataframe\">\n",
       "  <thead>\n",
       "    <tr style=\"text-align: right;\">\n",
       "      <th></th>\n",
       "      <th>nomes</th>\n",
       "      <th>sobrenomes</th>\n",
       "      <th>idade</th>\n",
       "      <th>cargo</th>\n",
       "      <th>salario</th>\n",
       "    </tr>\n",
       "  </thead>\n",
       "  <tbody>\n",
       "    <tr>\n",
       "      <th>0</th>\n",
       "      <td>Lucas</td>\n",
       "      <td>Lourenço</td>\n",
       "      <td>19</td>\n",
       "      <td>Programador</td>\n",
       "      <td>R$ 6.000,00</td>\n",
       "    </tr>\n",
       "    <tr>\n",
       "      <th>1</th>\n",
       "      <td>Matheus</td>\n",
       "      <td>Marinho</td>\n",
       "      <td>19</td>\n",
       "      <td>Rh</td>\n",
       "      <td>R$ 3.000,00</td>\n",
       "    </tr>\n",
       "    <tr>\n",
       "      <th>2</th>\n",
       "      <td>Fulano</td>\n",
       "      <td>De Tal</td>\n",
       "      <td>20</td>\n",
       "      <td>Analista</td>\n",
       "      <td>R$ 2.000,00</td>\n",
       "    </tr>\n",
       "    <tr>\n",
       "      <th>3</th>\n",
       "      <td>Fulaninho</td>\n",
       "      <td>De Tal</td>\n",
       "      <td>25</td>\n",
       "      <td>Analista Pleno</td>\n",
       "      <td>R$ 2.500,00</td>\n",
       "    </tr>\n",
       "  </tbody>\n",
       "</table>\n",
       "</div>"
      ],
      "text/plain": [
       "       nomes sobrenomes  idade           cargo      salario\n",
       "0      Lucas   Lourenço     19     Programador  R$ 6.000,00\n",
       "1    Matheus    Marinho     19              Rh  R$ 3.000,00\n",
       "2     Fulano     De Tal     20        Analista  R$ 2.000,00\n",
       "3  Fulaninho     De Tal     25  Analista Pleno  R$ 2.500,00"
      ]
     },
     "metadata": {},
     "output_type": "display_data"
    }
   ],
   "source": [
    "from pathlib import Path\n",
    "import pandas as pd\n",
    "import locale\n",
    "locale.setlocale(locale.LC_MONETARY, '')\n",
    "\n",
    "\n",
    "\n",
    "def formatar_moeda(valor):\n",
    "    return locale.currency(valor, grouping=True)\n",
    "\n",
    "\n",
    "\n",
    "dados = {'nomes':     ['lucas','matheus','fulano','fulaninho'],\n",
    "         'sobrenomes':['lourenço','marinho','de tal','de tal'],\n",
    "         'idade':     [19,19,20,25],\n",
    "         'cargo':     ['programador','rh','analista','analista pleno'],\n",
    "         'salario':   [6000,3000,2000,2500],\n",
    "        }\n",
    "\n",
    "\n",
    "\n",
    "tabela_df = pd.DataFrame.from_dict(dados)\n",
    "\n",
    "\n",
    "# tratamento de dados\n",
    "tabela_df['nomes'] = [n.title() for n in tabela_df['nomes']]\n",
    "tabela_df['sobrenomes'] = [sn.title() for sn in tabela_df['sobrenomes']]\n",
    "tabela_df['cargo'] = [c.title() for c in tabela_df['cargo']]\n",
    "tabela_df['salario'] = [formatar_moeda(s) for s in tabela_df['salario']]\n",
    "\n",
    "\n",
    "display(tabela_df.head())"
   ]
  }
 ],
 "metadata": {
  "kernelspec": {
   "display_name": "Python 3 (ipykernel)",
   "language": "python",
   "name": "python3"
  },
  "language_info": {
   "codemirror_mode": {
    "name": "ipython",
    "version": 3
   },
   "file_extension": ".py",
   "mimetype": "text/x-python",
   "name": "python",
   "nbconvert_exporter": "python",
   "pygments_lexer": "ipython3",
   "version": "3.9.12"
  },
  "vscode": {
   "interpreter": {
    "hash": "b812a17bccdd76d1bff02a6f2f9555b925a9937eb658a2c3cee270333a40bef3"
   }
  }
 },
 "nbformat": 4,
 "nbformat_minor": 2
}
